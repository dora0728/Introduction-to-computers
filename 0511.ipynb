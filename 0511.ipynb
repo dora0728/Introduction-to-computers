{
  "nbformat": 4,
  "nbformat_minor": 0,
  "metadata": {
    "colab": {
      "name": "0511.ipynb",
      "provenance": [],
      "collapsed_sections": [],
      "include_colab_link": true
    },
    "kernelspec": {
      "name": "python3",
      "display_name": "Python 3"
    },
    "language_info": {
      "name": "python"
    }
  },
  "cells": [
    {
      "cell_type": "markdown",
      "metadata": {
        "id": "view-in-github",
        "colab_type": "text"
      },
      "source": [
        "<a href=\"https://colab.research.google.com/github/dora0728/Introduction-to-computers/blob/main/0511.ipynb\" target=\"_parent\"><img src=\"https://colab.research.google.com/assets/colab-badge.svg\" alt=\"Open In Colab\"/></a>"
      ]
    },
    {
      "cell_type": "code",
      "execution_count": null,
      "metadata": {
        "colab": {
          "base_uri": "https://localhost:8080/"
        },
        "id": "sNH7cYr0Iqmo",
        "outputId": "0c347b03-4144-4535-8b77-f6c11f3db77a"
      },
      "outputs": [
        {
          "output_type": "stream",
          "name": "stdout",
          "text": [
            "輸入體溫:37.3\n",
            "體溫略高!\n"
          ]
        }
      ],
      "source": [
        "num=float(input(\"輸入體溫:\"))\n",
        "if num >=37.5:\n",
        "   print(\"體溫過高!\")\n",
        "elif num>=37 and num<=37.4:\n",
        "   print(\"體溫略高!\")\n",
        "elif num>=34 and num<=36.9:\n",
        "    print(\"體溫正常!\")\n",
        "else:\n",
        "  print(\"體溫異常，請重新測量!\")"
      ]
    },
    {
      "cell_type": "code",
      "source": [
        "num=int(input(\"請輸入消費金額!\"))\n",
        "if num<10000:\n",
        "  print(f\"沒打折 {num}元\")\n",
        "elif num>=10000:\n",
        "  if num<30000:\n",
        "    print(f\"九五折 {num*0.95}元\")\n",
        "  elif num<50000:\n",
        "    print(f\"九折 {num*0.9}元\")\n",
        "  elif num<100000:\n",
        "    print(f\"八五折 {num*0.85}元\")\n",
        "  else:\n",
        "    print(f\"八折 {num*0.8}元\")\n"
      ],
      "metadata": {
        "colab": {
          "base_uri": "https://localhost:8080/"
        },
        "id": "DlrG4JL8KO-8",
        "outputId": "68895eb0-64c3-4c75-e61f-f1d77b91d84b"
      },
      "execution_count": null,
      "outputs": [
        {
          "output_type": "stream",
          "name": "stdout",
          "text": [
            "請輸入消費金額!1\n",
            "沒打折 1元\n"
          ]
        }
      ]
    },
    {
      "cell_type": "code",
      "source": [
        "grade=int(input(\"請輸入成績:\"))\n",
        "if grade>=90:\n",
        "  print(\"A\")\n",
        "elif grade>=80 and grade<=89:\n",
        "  print(\"B\")\n",
        "elif grade>=70 and grade<=79:\n",
        "  print(\"C\")\n",
        "elif grade>60 and grade<=69:\n",
        "  print(\"D\")\n",
        "else:\n",
        "  print(\"E\")\n"
      ],
      "metadata": {
        "colab": {
          "base_uri": "https://localhost:8080/"
        },
        "id": "bnHiTLBIONuF",
        "outputId": "f236a756-8da9-478e-89b4-9638afe96e6f"
      },
      "execution_count": null,
      "outputs": [
        {
          "output_type": "stream",
          "name": "stdout",
          "text": [
            "請輸入成績:50\n",
            "E\n"
          ]
        }
      ]
    },
    {
      "cell_type": "code",
      "source": [
        "mon=int(input(\"請輸入月份:\"))\n",
        "if mon>12:\n",
        "  print(\"月份不在範圍內!\")\n",
        "else:\n",
        "  if mon>=3 and mon<=5:\n",
        "   print(f\"{mon}月是春天!\")\n",
        "  elif mon>=6 and mon<=8:\n",
        "   print(f\"{mon}月是夏天!\")\n",
        "  elif mon>=9 and mon<=11:\n",
        "   print(f\"{mon}月是秋天!\")\n",
        "  else:\n",
        "   print(f\"{mon}月是冬天!\")\n",
        "\n",
        "\n",
        "\n",
        "\n"
      ],
      "metadata": {
        "colab": {
          "base_uri": "https://localhost:8080/"
        },
        "id": "hjAsO0QRPVkd",
        "outputId": "c0fdc8ee-5fcb-47ad-a285-0bcca8753112"
      },
      "execution_count": null,
      "outputs": [
        {
          "output_type": "stream",
          "name": "stdout",
          "text": [
            "請輸入月份:6\n",
            "6月是夏天!\n"
          ]
        }
      ]
    },
    {
      "cell_type": "code",
      "source": [
        "num=int(input(\"請輸入今年收入淨值:\"))\n",
        "if num<300000:\n",
        "  print(\"賦稅金額: 0 元\")\n",
        "elif num<600000 and num>=300000:\n",
        "  print(f\"賦稅金額: {num*0.06}元\")\n",
        "elif num<1000000 and num>=600000:\n",
        "  print(f\"賦稅金額: {num*0.13}元\")\n",
        "elif num<2000000 and num>=1000000:\n",
        "  print(f\"賦稅金額: {num*0.21}元\")\n",
        "else:\n",
        "  print(f\"賦稅金額: {num*0.3}元\")"
      ],
      "metadata": {
        "colab": {
          "base_uri": "https://localhost:8080/"
        },
        "id": "BnfJm_HKRfCS",
        "outputId": "3222f1a4-8e9d-4fe3-9bd5-37c90c02fd69"
      },
      "execution_count": null,
      "outputs": [
        {
          "output_type": "stream",
          "name": "stdout",
          "text": [
            "請輸入今年收入淨值:2000000\n",
            "賦稅金額: 600000.0元\n"
          ]
        }
      ]
    }
  ]
}