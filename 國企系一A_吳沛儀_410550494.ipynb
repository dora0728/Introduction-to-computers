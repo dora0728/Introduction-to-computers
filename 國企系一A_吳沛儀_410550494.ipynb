{
  "nbformat": 4,
  "nbformat_minor": 0,
  "metadata": {
    "colab": {
      "name": "國企系一A_吳沛儀_410550494.ipynb",
      "provenance": [],
      "include_colab_link": true
    },
    "kernelspec": {
      "name": "python3",
      "display_name": "Python 3"
    },
    "language_info": {
      "name": "python"
    }
  },
  "cells": [
    {
      "cell_type": "markdown",
      "metadata": {
        "id": "view-in-github",
        "colab_type": "text"
      },
      "source": [
        "<a href=\"https://colab.research.google.com/github/dora0728/Introduction-to-computers/blob/main/%E5%9C%8B%E4%BC%81%E7%B3%BB%E4%B8%80A_%E5%90%B3%E6%B2%9B%E5%84%80_410550494.ipynb\" target=\"_parent\"><img src=\"https://colab.research.google.com/assets/colab-badge.svg\" alt=\"Open In Colab\"/></a>"
      ]
    },
    {
      "cell_type": "code",
      "execution_count": null,
      "metadata": {
        "id": "XB8PZgYLi3B4",
        "colab": {
          "base_uri": "https://localhost:8080/"
        },
        "outputId": "df76ec13-b13b-42d6-d971-1797973b7427"
      },
      "outputs": [
        {
          "output_type": "stream",
          "name": "stdout",
          "text": [
            "消費者擁有的金額150\n",
            "可購買手機\n"
          ]
        }
      ],
      "source": [
        "money = int(input(\"消費者擁有的金額\"))\n",
        "if( money < 100 ):\n",
        "      print('金額不足')\n",
        "elif( money >= 100 and money < 200 ):\n",
        "      print('可購買手機')\n",
        "elif( money >= 200 and money < 300 ):\n",
        "      print('可購買平板')\n",
        "elif( money >= 300 and money < 400 ):\n",
        "      print('可購買電腦')           \n",
        "\n",
        "\n",
        "\n"
      ]
    },
    {
      "cell_type": "code",
      "source": [
        ""
      ],
      "metadata": {
        "id": "EjKEQpbfOxU-"
      },
      "execution_count": null,
      "outputs": []
    }
  ]
}